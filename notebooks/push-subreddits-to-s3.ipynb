{
 "cells": [
  {
   "cell_type": "code",
   "execution_count": null,
   "metadata": {},
   "outputs": [],
   "source": [
    "pip install awswrangler"
   ]
  },
  {
   "cell_type": "code",
   "execution_count": null,
   "metadata": {},
   "outputs": [],
   "source": [
    "pip install jinja2==3.0.0"
   ]
  },
  {
   "cell_type": "code",
   "execution_count": 1,
   "metadata": {},
   "outputs": [
    {
     "name": "stderr",
     "output_type": "stream",
     "text": [
      "C:\\Users\\dfaro\\Anaconda3\\lib\\site-packages\\pandas\\core\\computation\\expressions.py:20: UserWarning: Pandas requires version '2.7.3' or newer of 'numexpr' (version '2.7.1' currently installed).\n",
      "  from pandas.core.computation.check import NUMEXPR_INSTALLED\n",
      "WARNING:root:Detected ujson version below 2.0.0. This is not recommended as precision may be lost.\n"
     ]
    },
    {
     "data": {
      "text/plain": [
       "True"
      ]
     },
     "execution_count": 1,
     "metadata": {},
     "output_type": "execute_result"
    }
   ],
   "source": [
    "import awswrangler as wr\n",
    "import boto3\n",
    "from dotenv import load_dotenv\n",
    "import os\n",
    "import pandas as pd\n",
    "from pathlib import Path\n",
    "\n",
    "if \"notebook\" in os.getcwd():\n",
    "    os.chdir(\"..\")\n",
    "\n",
    "from src.data_pipeline import write_subreddit_data_to_s3\n",
    "\n",
    "try:\n",
    "    del os.environ[\"AWS_ACCESS_KEY_ID\"]\n",
    "    del os.environ[\"AWS_SECRET_ACCESS_KEY\"]\n",
    "    del os.environ[\"AWS_SESSION_TOKEN\"]\n",
    "except:\n",
    "    None\n",
    "\n",
    "load_dotenv()"
   ]
  },
  {
   "cell_type": "code",
   "execution_count": 2,
   "metadata": {},
   "outputs": [
    {
     "name": "stderr",
     "output_type": "stream",
     "text": [
      "INFO:botocore.credentials:Found credentials in environment variables.\n",
      "2023-01-28 23:15:41.988 INFO    botocore.credentials: Found credentials in environment variables.\n"
     ]
    }
   ],
   "source": [
    "# push individual files up to s3\n",
    "\n",
    "for file in Path('Parsed-Subreddits').iterdir():\n",
    "    if \"csv\" in file.name:\n",
    "        df = pd.read_csv(file)\n",
    "        df[\"subreddit\"] = file.stem\n",
    "        write_subreddit_data_to_s3(df, file.stem, \"parsed-subreddits\")"
   ]
  },
  {
   "cell_type": "code",
   "execution_count": 3,
   "metadata": {},
   "outputs": [
    {
     "name": "stderr",
     "output_type": "stream",
     "text": [
      "INFO:botocore.credentials:Found credentials in environment variables.\n",
      "2023-01-28 23:15:44.138 INFO    botocore.credentials: Found credentials in environment variables.\n"
     ]
    }
   ],
   "source": [
    "# creates a single dataframe from all csv files\n",
    "\n",
    "df_total = pd.DataFrame()\n",
    "\n",
    "for file in Path(\"Parsed-Subreddits\").iterdir():\n",
    "    if \"csv\" in file.name:\n",
    "        df = pd.read_csv(file)\n",
    "        df[\"subreddit\"] = file.stem\n",
    "        df_total = pd.concat([df_total, df])\n",
    "\n",
    "write_subreddit_data_to_s3(df_total, \"frontend-combined-analysis\", \"parsed-subreddits\")"
   ]
  },
  {
   "cell_type": "code",
   "execution_count": null,
   "metadata": {},
   "outputs": [],
   "source": []
  }
 ],
 "metadata": {
  "kernelspec": {
   "display_name": "Python 3",
   "language": "python",
   "name": "python3"
  },
  "language_info": {
   "codemirror_mode": {
    "name": "ipython",
    "version": 3
   },
   "file_extension": ".py",
   "mimetype": "text/x-python",
   "name": "python",
   "nbconvert_exporter": "python",
   "pygments_lexer": "ipython3",
   "version": "3.8.3"
  },
  "vscode": {
   "interpreter": {
    "hash": "18f3bec07162dbda8f6b7a88a87618d1de33f97370e48c013a6d2883142dc9bf"
   }
  }
 },
 "nbformat": 4,
 "nbformat_minor": 2
}
