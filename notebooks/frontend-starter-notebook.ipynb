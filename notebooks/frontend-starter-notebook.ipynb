{
 "cells": [
  {
   "cell_type": "code",
   "execution_count": 1,
   "metadata": {},
   "outputs": [
    {
     "data": {
      "text/plain": [
       "True"
      ]
     },
     "execution_count": 1,
     "metadata": {},
     "output_type": "execute_result"
    }
   ],
   "source": [
    "import awswrangler as wr\n",
    "import boto3\n",
    "from dotenv import load_dotenv\n",
    "import os\n",
    "import pandas as pd\n",
    "\n",
    "if \"notebook\" in os.getcwd():\n",
    "    os.chdir(\"..\")\n",
    "\n",
    "from src.data_pipeline import read_subreddit_data_from_s3\n",
    "\n",
    "try:\n",
    "    del os.environ[\"AWS_ACCESS_KEY_ID\"]\n",
    "    del os.environ[\"AWS_SECRET_ACCESS_KEY\"]\n",
    "    del os.environ[\"AWS_SESSION_TOKEN\"]\n",
    "except:\n",
    "    None\n",
    "\n",
    "load_dotenv()"
   ]
  },
  {
   "cell_type": "code",
   "execution_count": 2,
   "metadata": {},
   "outputs": [
    {
     "name": "stderr",
     "output_type": "stream",
     "text": [
      "2023-01-28 17:12:07.833 INFO    botocore.credentials: Found credentials in environment variables.\n"
     ]
    },
    {
     "data": {
      "text/plain": [
       "['s3://data-science-club-hackmt-2023/subreddit_data/test/test-file-name.parquet']"
      ]
     },
     "execution_count": 2,
     "metadata": {},
     "output_type": "execute_result"
    }
   ],
   "source": [
    "## This will show you everything currently available in S3\n",
    "\n",
    "wr.s3.list_objects(\"s3://data-science-club-hackmt-2023\")"
   ]
  },
  {
   "cell_type": "code",
   "execution_count": 3,
   "metadata": {},
   "outputs": [
    {
     "name": "stderr",
     "output_type": "stream",
     "text": [
      "2023-01-28 17:12:08.542 INFO    botocore.credentials: Found credentials in environment variables.\n"
     ]
    },
    {
     "data": {
      "text/html": [
       "<div>\n",
       "<style scoped>\n",
       "    .dataframe tbody tr th:only-of-type {\n",
       "        vertical-align: middle;\n",
       "    }\n",
       "\n",
       "    .dataframe tbody tr th {\n",
       "        vertical-align: top;\n",
       "    }\n",
       "\n",
       "    .dataframe thead th {\n",
       "        text-align: right;\n",
       "    }\n",
       "</style>\n",
       "<table border=\"1\" class=\"dataframe\">\n",
       "  <thead>\n",
       "    <tr style=\"text-align: right;\">\n",
       "      <th></th>\n",
       "      <th>Submission</th>\n",
       "      <th>Label</th>\n",
       "      <th>Score</th>\n",
       "    </tr>\n",
       "  </thead>\n",
       "  <tbody>\n",
       "    <tr>\n",
       "      <th>0</th>\n",
       "      <td>Any screenshots of Reddit's \"the year, recappe...</td>\n",
       "      <td>NEU</td>\n",
       "      <td>0.720</td>\n",
       "    </tr>\n",
       "    <tr>\n",
       "      <th>1</th>\n",
       "      <td>Subreddit of the Month [January 2023] r/ballst...</td>\n",
       "      <td>NEU</td>\n",
       "      <td>0.529</td>\n",
       "    </tr>\n",
       "    <tr>\n",
       "      <th>2</th>\n",
       "      <td>Bro really did a Street Fighter victory pose</td>\n",
       "      <td>NEU</td>\n",
       "      <td>0.945</td>\n",
       "    </tr>\n",
       "    <tr>\n",
       "      <th>3</th>\n",
       "      <td>Vegans in Shambles</td>\n",
       "      <td>NEG</td>\n",
       "      <td>0.969</td>\n",
       "    </tr>\n",
       "    <tr>\n",
       "      <th>4</th>\n",
       "      <td>So poetic!</td>\n",
       "      <td>POS</td>\n",
       "      <td>0.966</td>\n",
       "    </tr>\n",
       "  </tbody>\n",
       "</table>\n",
       "</div>"
      ],
      "text/plain": [
       "                                          Submission Label  Score\n",
       "0  Any screenshots of Reddit's \"the year, recappe...   NEU  0.720\n",
       "1  Subreddit of the Month [January 2023] r/ballst...   NEU  0.529\n",
       "2       Bro really did a Street Fighter victory pose   NEU  0.945\n",
       "3                                 Vegans in Shambles   NEG  0.969\n",
       "4                                         So poetic!   POS  0.966"
      ]
     },
     "execution_count": 3,
     "metadata": {},
     "output_type": "execute_result"
    }
   ],
   "source": [
    "df = read_subreddit_data_from_s3(\"test\", \"test-file-name\")\n",
    "\n",
    "df.head()"
   ]
  }
 ],
 "metadata": {
  "kernelspec": {
   "display_name": "hackmt",
   "language": "python",
   "name": "python3"
  },
  "language_info": {
   "codemirror_mode": {
    "name": "ipython",
    "version": 3
   },
   "file_extension": ".py",
   "mimetype": "text/x-python",
   "name": "python",
   "nbconvert_exporter": "python",
   "pygments_lexer": "ipython3",
   "version": "3.10.9"
  },
  "orig_nbformat": 4,
  "vscode": {
   "interpreter": {
    "hash": "fc84468331ea482400824d23741a52d022bb4957df7bf226651832bd6e6dd13d"
   }
  }
 },
 "nbformat": 4,
 "nbformat_minor": 2
}
