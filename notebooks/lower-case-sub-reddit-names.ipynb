{
 "cells": [
  {
   "cell_type": "code",
   "execution_count": null,
   "metadata": {},
   "outputs": [],
   "source": [
    "import awswrangler as wr\n",
    "import boto3\n",
    "from dotenv import load_dotenv\n",
    "import os\n",
    "import pandas as pd\n",
    "\n",
    "try:\n",
    "    del os.environ[\"AWS_ACCESS_KEY_ID\"]\n",
    "    del os.environ[\"AWS_SECRET_ACCESS_KEY\"]\n",
    "    del os.environ[\"AWS_SESSION_TOKEN\"]\n",
    "except:\n",
    "    None\n",
    "\n",
    "load_dotenv()\n",
    "\n",
    "s3 = boto3.resource('s3')"
   ]
  },
  {
   "cell_type": "code",
   "execution_count": null,
   "metadata": {},
   "outputs": [],
   "source": [
    "list_of_objects = wr.s3.list_objects(\"s3://data-science-club-hackmt-2023/\")"
   ]
  },
  {
   "cell_type": "code",
   "execution_count": null,
   "metadata": {},
   "outputs": [],
   "source": [
    "def move_s3_object(s3_obj):\n",
    "    if s3_obj !=  s3_obj.lower():\n",
    "\n",
    "        print(s3_obj)\n",
    "\n",
    "        bucket_name = \"data-science-club-hackmt-2023\"\n",
    "        obj_key = s3_obj.replace(\"s3://data-science-club-hackmt-2023/\", \"\")\n",
    "\n",
    "        copy_source = {\n",
    "            'Bucket': \"data-science-club-hackmt-2023\",\n",
    "            'Key': obj_key\n",
    "        }\n",
    "\n",
    "        s3.meta.client.copy(copy_source, \"data-science-club-hackmt-2023\", obj_key.lower())\n",
    "\n",
    "        wr.s3.delete_objects(s3_obj)"
   ]
  },
  {
   "cell_type": "code",
   "execution_count": null,
   "metadata": {},
   "outputs": [],
   "source": [
    "for reddit_name in list_of_objects:\n",
    "    move_s3_object(reddit_name)"
   ]
  }
 ],
 "metadata": {
  "kernelspec": {
   "display_name": "hackmt-2023-Ixx92jts-py3.10",
   "language": "python",
   "name": "python3"
  },
  "language_info": {
   "codemirror_mode": {
    "name": "ipython",
    "version": 3
   },
   "file_extension": ".py",
   "mimetype": "text/x-python",
   "name": "python",
   "nbconvert_exporter": "python",
   "pygments_lexer": "ipython3",
   "version": "3.10.2"
  },
  "orig_nbformat": 4,
  "vscode": {
   "interpreter": {
    "hash": "18f3bec07162dbda8f6b7a88a87618d1de33f97370e48c013a6d2883142dc9bf"
   }
  }
 },
 "nbformat": 4,
 "nbformat_minor": 2
}
