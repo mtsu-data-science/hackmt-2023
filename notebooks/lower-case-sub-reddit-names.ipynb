{
 "cells": [
  {
   "cell_type": "code",
   "execution_count": 1,
   "metadata": {},
   "outputs": [
    {
     "name": "stderr",
     "output_type": "stream",
     "text": [
      "C:\\Users\\dfaro\\Anaconda3\\lib\\site-packages\\pandas\\core\\computation\\expressions.py:20: UserWarning: Pandas requires version '2.7.3' or newer of 'numexpr' (version '2.7.1' currently installed).\n",
      "  from pandas.core.computation.check import NUMEXPR_INSTALLED\n",
      "WARNING:root:Detected ujson version below 2.0.0. This is not recommended as precision may be lost.\n"
     ]
    }
   ],
   "source": [
    "import awswrangler as wr\n",
    "import boto3\n",
    "from dotenv import load_dotenv\n",
    "import os\n",
    "import pandas as pd\n",
    "\n",
    "try:\n",
    "    del os.environ[\"AWS_ACCESS_KEY_ID\"]\n",
    "    del os.environ[\"AWS_SECRET_ACCESS_KEY\"]\n",
    "    del os.environ[\"AWS_SESSION_TOKEN\"]\n",
    "except:\n",
    "    None\n",
    "\n",
    "load_dotenv()\n",
    "\n",
    "s3 = boto3.resource('s3')"
   ]
  },
  {
   "cell_type": "code",
   "execution_count": 2,
   "metadata": {},
   "outputs": [],
   "source": [
    "list_of_objects = wr.s3.list_objects(\"s3://data-science-club-hackmt-2023/\")"
   ]
  },
  {
   "cell_type": "code",
   "execution_count": 3,
   "metadata": {},
   "outputs": [],
   "source": [
    "def move_s3_object(s3_obj):\n",
    "    if s3_obj !=  s3_obj.lower():\n",
    "\n",
    "        print(s3_obj)\n",
    "\n",
    "        bucket_name = \"data-science-club-hackmt-2023\"\n",
    "        obj_key = s3_obj.replace(\"s3://data-science-club-hackmt-2023/\", \"\")\n",
    "\n",
    "        copy_source = {\n",
    "            'Bucket': \"data-science-club-hackmt-2023\",\n",
    "            'Key': obj_key\n",
    "        }\n",
    "\n",
    "        s3.meta.client.copy(copy_source, \"data-science-club-hackmt-2023\", obj_key.lower())\n",
    "\n",
    "        wr.s3.delete_objects(s3_obj)"
   ]
  },
  {
   "cell_type": "code",
   "execution_count": 4,
   "metadata": {},
   "outputs": [],
   "source": [
    "for reddit_name in list_of_objects:\n",
    "    move_s3_object(reddit_name)"
   ]
  },
  {
   "cell_type": "code",
   "execution_count": null,
   "metadata": {},
   "outputs": [],
   "source": []
  }
 ],
 "metadata": {
  "kernelspec": {
   "display_name": "Python 3",
   "language": "python",
   "name": "python3"
  },
  "language_info": {
   "codemirror_mode": {
    "name": "ipython",
    "version": 3
   },
   "file_extension": ".py",
   "mimetype": "text/x-python",
   "name": "python",
   "nbconvert_exporter": "python",
   "pygments_lexer": "ipython3",
   "version": "3.8.3"
  },
  "vscode": {
   "interpreter": {
    "hash": "18f3bec07162dbda8f6b7a88a87618d1de33f97370e48c013a6d2883142dc9bf"
   }
  }
 },
 "nbformat": 4,
 "nbformat_minor": 2
}
