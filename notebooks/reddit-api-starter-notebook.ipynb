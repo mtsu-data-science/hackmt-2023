{
 "cells": [
  {
   "attachments": {},
   "cell_type": "markdown",
   "metadata": {},
   "source": [
    "## Getting Started\n",
    "\n",
    "Before being able to run this notebook, you will need to set up an `.env` file in your root directory. You will do this by making a copy of [.env_template](../.env_template) and renaming it to `.env` and making sure it is in the root directory of the project. You will need to reach out to a team organizer that can provide help with getting the `reddit_client_id`, `reddit_client_secret`, and `reddit_user_agent` set up based on the [https://praw.readthedocs.io/en/stable/getting_started/quick_start.html](https://praw.readthedocs.io/en/stable/getting_started/quick_start) documentation.\n",
    "\n",
    "Additionally, you will need to install the packages designated in the [requirements.txt](../requirements.txt) file.\n",
    "\n",
    "Once configured, you will be able to run all of the cells in this notebook."
   ]
  },
  {
   "cell_type": "code",
   "execution_count": 2,
   "metadata": {},
   "outputs": [
    {
     "data": {
      "text/plain": [
       "True"
      ]
     },
     "execution_count": 2,
     "metadata": {},
     "output_type": "execute_result"
    }
   ],
   "source": [
    "import praw\n",
    "import os\n",
    "from dotenv import load_dotenv\n",
    "\n",
    "load_dotenv()"
   ]
  },
  {
   "cell_type": "code",
   "execution_count": 3,
   "metadata": {},
   "outputs": [],
   "source": [
    "# authenticating with reddit and setting up an object for interacting with the API\n",
    "\n",
    "reddit = praw.Reddit(\n",
    "    client_id=os.environ[\"reddit_client_id\"],\n",
    "    client_secret=os.environ[\"reddit_client_secret\"],\n",
    "    user_agent=os.environ[\"reddit_user_agent\"],\n",
    ")"
   ]
  },
  {
   "cell_type": "code",
   "execution_count": 4,
   "metadata": {},
   "outputs": [
    {
     "name": "stdout",
     "output_type": "stream",
     "text": [
      "True\n"
     ]
    }
   ],
   "source": [
    "# checking if the object is read only\n",
    "\n",
    "print(reddit.read_only)"
   ]
  },
  {
   "cell_type": "code",
   "execution_count": 5,
   "metadata": {},
   "outputs": [
    {
     "name": "stdout",
     "output_type": "stream",
     "text": [
      "test\n",
      "mac\n",
      "test\n",
      "onions\n",
      "Less Is More, Too Much Is Not Enough: What the Irish DPC’s €390 Million Fine Against Meta Could Mean for Your Privacy Notice\n"
     ]
    }
   ],
   "source": [
    "# example for how to get the top 5 submissions in the subreddit \"test\"\n",
    "\n",
    "for submission in reddit.subreddit(\"test\").hot(limit=5):\n",
    "    print(submission.title)"
   ]
  },
  {
   "cell_type": "code",
   "execution_count": 6,
   "metadata": {},
   "outputs": [
    {
     "name": "stdout",
     "output_type": "stream",
     "text": [
      "funny\n",
      "funny\n"
     ]
    }
   ],
   "source": [
    "subreddit_funny = reddit.subreddit(\"funny\")\n",
    "\n",
    "print(subreddit_funny.display_name)\n",
    "print(subreddit_funny.title)"
   ]
  },
  {
   "cell_type": "code",
   "execution_count": 7,
   "metadata": {},
   "outputs": [],
   "source": [
    "# commented out since this is long\n",
    "# print(subreddit_funny.description)\n",
    "# output: description"
   ]
  },
  {
   "cell_type": "code",
   "execution_count": 9,
   "metadata": {},
   "outputs": [
    {
     "name": "stdout",
     "output_type": "stream",
     "text": [
      "My cab driver tonight was so excited to share with me that he’d made the cover of the calendar. I told him I’d help let the world see\n",
      "308580\n",
      "7mjw12\n",
      "https://i.redd.it/tojcmbvjwk601.jpg\n",
      "Guardians of the Front Page\n",
      "283999\n",
      "5gn8ru\n",
      "http://i.imgur.com/OOFRJvr.gifv\n",
      "Gas station worker takes precautionary measures after customer refused to put out his cigarette\n",
      "263335\n",
      "7431qq\n",
      "https://gfycat.com/ResponsibleJadedAmericancurl\n"
     ]
    }
   ],
   "source": [
    "# example for getting information about a top posts for a subreddit\n",
    "for submission in subreddit_funny.top(limit=3):\n",
    "    print(submission.title)\n",
    "    # Output: the submission's title\n",
    "    print(submission.score)\n",
    "    # Output: the submission's score\n",
    "    print(submission.id)\n",
    "    # Output: the submission's ID\n",
    "    print(submission.url)"
   ]
  }
 ],
 "metadata": {
  "kernelspec": {
   "display_name": "hackmt-2023-Ixx92jts-py3.10",
   "language": "python",
   "name": "python3"
  },
  "language_info": {
   "codemirror_mode": {
    "name": "ipython",
    "version": 3
   },
   "file_extension": ".py",
   "mimetype": "text/x-python",
   "name": "python",
   "nbconvert_exporter": "python",
   "pygments_lexer": "ipython3",
   "version": "3.10.2 (main, Jan 31 2022, 22:41:59) [Clang 13.0.0 (clang-1300.0.29.30)]"
  },
  "orig_nbformat": 4,
  "vscode": {
   "interpreter": {
    "hash": "18f3bec07162dbda8f6b7a88a87618d1de33f97370e48c013a6d2883142dc9bf"
   }
  }
 },
 "nbformat": 4,
 "nbformat_minor": 2
}
