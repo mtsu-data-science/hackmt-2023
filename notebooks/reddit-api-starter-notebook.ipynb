{
 "cells": [
  {
   "attachments": {},
   "cell_type": "markdown",
   "metadata": {},
   "source": [
    "## Getting Started\n",
    "\n",
    "Before being able to run this notebook, you will need to set up an `.env` file in your root directory. You will do this by making a copy of [.env_template](../.env_template) and renaming it to `.env` and making sure it is in the root directory of the project. You will need to reach out to a team organizer that can provide help with getting the `reddit_client_id`, `reddit_client_secret`, and `reddit_user_agent` set up based on the [https://praw.readthedocs.io/en/stable/getting_started/quick_start.html](https://praw.readthedocs.io/en/stable/getting_started/quick_start) documentation.\n",
    "\n",
    "Additionally, you will need to install the packages designated in the [requirements.txt](../requirements.txt) file.\n",
    "\n",
    "Once configured, you will be able to run all of the cells in this notebook."
   ]
  },
  {
   "cell_type": "code",
   "execution_count": 2,
   "metadata": {},
   "outputs": [
    {
     "data": {
      "text/plain": [
       "True"
      ]
     },
     "execution_count": 2,
     "metadata": {},
     "output_type": "execute_result"
    }
   ],
   "source": [
    "import praw as praw\n",
    "import os\n",
    "from dotenv import load_dotenv\n",
    "\n",
    "load_dotenv()"
   ]
  },
  {
   "cell_type": "code",
   "execution_count": 3,
   "metadata": {},
   "outputs": [],
   "source": [
    "# authenticating with reddit and setting up an object for interacting with the API\n",
    "\n",
    "reddit = praw.Reddit(\n",
    "    client_id=os.environ[\"reddit_client_id\"],\n",
    "    client_secret=os.environ[\"reddit_client_secret\"],\n",
    "    user_agent=os.environ[\"reddit_user_agent\"],\n",
    ")"
   ]
  },
  {
   "cell_type": "code",
   "execution_count": 4,
   "metadata": {},
   "outputs": [
    {
     "name": "stdout",
     "output_type": "stream",
     "text": [
      "True\n"
     ]
    }
   ],
   "source": [
    "# checking if the object is read only\n",
    "\n",
    "print(reddit.read_only)"
   ]
  },
  {
   "cell_type": "code",
   "execution_count": 5,
   "metadata": {},
   "outputs": [
    {
     "name": "stdout",
     "output_type": "stream",
     "text": [
      "test\n",
      "Hep B antibody help. So I got my blood work done and it says I have 33 antibodies? I was told 10 is a good number but I’m going into school which needs it. Will I need some more shots to reach a certain number? I heard some peoples are around 200?\n",
      "Why Remote Medical Scribing is Revolutionizing the Healthcare Industry | Get Fit Owasso\n",
      "Why Portiva Should Be Your First Choice for Medical Billing -\n",
      "Virtual Medical Assistants: A New Way to Improve Patient Care - HealthyMenStore\n"
     ]
    }
   ],
   "source": [
    "# example for how to get the top 5 submissions in the subreddit \"test\"\n",
    "\n",
    "for submission in reddit.subreddit(\"test\").hot(limit=5):\n",
    "    print(submission.title)"
   ]
  },
  {
   "cell_type": "code",
   "execution_count": 6,
   "metadata": {},
   "outputs": [
    {
     "name": "stdout",
     "output_type": "stream",
     "text": [
      "wallstreetbets\n",
      "wallstreetbets\n"
     ]
    }
   ],
   "source": [
    "subreddit_funny = reddit.subreddit(\"wallstreetbets\")\n",
    "\n",
    "print(subreddit_funny.display_name)\n",
    "print(subreddit_funny.title)"
   ]
  },
  {
   "cell_type": "code",
   "execution_count": 9,
   "metadata": {},
   "outputs": [],
   "source": [
    "# commented out since this is long\n",
    "# print(subreddit_funny.description)\n",
    "# output: description"
   ]
  },
  {
   "cell_type": "code",
   "execution_count": 9,
   "metadata": {},
   "outputs": [
    {
     "name": "stderr",
     "output_type": "stream",
     "text": [
      "emoji is not installed, thus not converting emoticons or emojis into text. Install emoji: pip3 install emoji==0.6.0\n",
      "/Users/sirialay/Library/Caches/pypoetry/virtualenvs/hackmt-2023-7IQ6sBDA-py3.10/lib/python3.10/site-packages/transformers/pipelines/text_classification.py:104: UserWarning: `return_all_scores` is now deprecated,  if want a similar funcionality use `top_k=None` instead of `return_all_scores=True` or `top_k=1` instead of `return_all_scores=False`.\n",
      "  warnings.warn(\n"
     ]
    },
    {
     "name": "stdout",
     "output_type": "stream",
     "text": [
      "[[{'label': 'NEG', 'score': 0.001650261809118092}, {'label': 'NEU', 'score': 0.900171160697937}, {'label': 'POS', 'score': 0.09817849099636078}]]\n",
      "Times Square right now\n",
      "473990\n",
      "l8rf4k\n",
      "https://v.redd.it/x64z70f7eie61\n",
      "<praw.models.comment_forest.CommentForest object at 0x134e69180>\n",
      "gle3n41\n",
      "[[{'label': 'NEG', 'score': 0.0006967877852730453}, {'label': 'NEU', 'score': 0.019802147522568703}, {'label': 'POS', 'score': 0.9795010685920715}]]\n",
      "UPVOTE so everyone sees we got SUPPORT\n",
      "333587\n",
      "l6wu59\n",
      "https://i.redd.it/sgoqy8nyt2e61.png\n",
      "<praw.models.comment_forest.CommentForest object at 0x131430a00>\n",
      "gl373fe\n"
     ]
    }
   ],
   "source": [
    "# example for getting information about a top posts for a subreddit\n",
    "import transformers\n",
    "from transformers import pipeline\n",
    "classifier = pipeline(\"sentiment-analysis\", return_all_scores=True, model=\"finiteautomata/bertweet-base-sentiment-analysis\")\n",
    "for submission in subreddit_funny.top(limit=2):\n",
    "    res = classifier(submission.title)\n",
    "    print(res)\n",
    "    print(submission.title)\n",
    "    # Output: the submission's title\n",
    "    print(submission.score)\n",
    "    # Output: the submission's score\n",
    "    print(submission.id)\n",
    "    # Output: the submission's ID\n",
    "    print(submission.url)\n",
    "    print(submission.comments)\n",
    "    print(submission.comments.list())\n",
    "    # print(vars(submission))"
   ]
  },
  {
   "cell_type": "code",
   "execution_count": 3,
   "metadata": {},
   "outputs": [],
   "source": [
    "import transformers\n",
    "from transformers import pipeline"
   ]
  },
  {
   "cell_type": "code",
   "execution_count": 18,
   "metadata": {},
   "outputs": [
    {
     "name": "stderr",
     "output_type": "stream",
     "text": [
      "emoji is not installed, thus not converting emoticons or emojis into text. Install emoji: pip3 install emoji==0.6.0\n"
     ]
    },
    {
     "name": "stdout",
     "output_type": "stream",
     "text": [
      "[[{'label': 'NEG', 'score': 0.04497120529413223}, {'label': 'NEU', 'score': 0.8526909351348877}, {'label': 'POS', 'score': 0.10233785957098007}]]\n"
     ]
    }
   ],
   "source": [
    "classifier = pipeline(\"sentiment-analysis\", return_all_scores=True, model=\"finiteautomata/bertweet-base-sentiment-analysis\")\n",
    "res = classifier(\"there are so many things\")\n",
    "print(res)"
   ]
  },
  {
   "cell_type": "code",
   "execution_count": 41,
   "metadata": {},
   "outputs": [],
   "source": []
  }
 ],
 "metadata": {
  "kernelspec": {
   "display_name": "Python 3.10.2 ('hackmt-2023-7IQ6sBDA-py3.10')",
   "language": "python",
   "name": "python3"
  },
  "language_info": {
   "codemirror_mode": {
    "name": "ipython",
    "version": 3
   },
   "file_extension": ".py",
   "mimetype": "text/x-python",
   "name": "python",
   "nbconvert_exporter": "python",
   "pygments_lexer": "ipython3",
   "version": "3.10.2"
  },
  "orig_nbformat": 4,
  "vscode": {
   "interpreter": {
    "hash": "9da3c440fa5d960d41ca187598da7cf4453c7a3ff8d0cd5e625bdb3bc4768c82"
   }
  }
 },
 "nbformat": 4,
 "nbformat_minor": 2
}
