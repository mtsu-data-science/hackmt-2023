@@ -0,0 +1,93 @@
{
 "cells": [
  {
   "cell_type": "code",
   "execution_count": null,
   "metadata": {},
   "outputs": [],
   "source": [
    "import awswrangler as wr\n",
    "import boto3\n",
    "from dotenv import load_dotenv\n",
    "import os\n",
    "import pandas as pd\n",
    "from pathlib import Path\n",
    "\n",
    "if \"notebook\" in os.getcwd():\n",
    "    os.chdir(\"..\")\n",
    "\n",
    "from src.data_pipeline import write_subreddit_data_to_s3\n",
    "\n",
    "try:\n",
    "    del os.environ[\"AWS_ACCESS_KEY_ID\"]\n",
    "    del os.environ[\"AWS_SECRET_ACCESS_KEY\"]\n",
    "    del os.environ[\"AWS_SESSION_TOKEN\"]\n",
    "except:\n",
    "    None\n",
    "\n",
    "load_dotenv()"
   ]
  },
  {
   "cell_type": "code",
   "execution_count": null,
   "metadata": {},
   "outputs": [],
   "source": [
    "# push individual files up to s3\n",
    "\n",
    "for file in Path(\"Parsed-Subreddits\").iterdir():\n",
    "    if \"csv\" in file.name:\n",
    "        df = pd.read_csv(file)\n",
    "        df[\"subreddit\"] = file.stem\n",
    "        write_subreddit_data_to_s3(df, file.stem, \"parsed-subreddits\")"
   ]
  },
  {
   "cell_type": "code",
   "execution_count": null,
   "metadata": {},
   "outputs": [],
   "source": [
    "# creates a single dataframe from all csv files\n",
    "\n",
    "df_total = pd.DataFrame()\n",
    "\n",
    "for file in Path(\"Parsed-Subreddits\").iterdir():\n",
    "    if \"csv\" in file.name:\n",
    "        df = pd.read_csv(file)\n",
    "        df[\"subreddit\"] = file.stem\n",
    "        df_total = pd.concat([df_total, df])\n",
    "\n",
    "write_subreddit_data_to_s3(df_total, \"frontend-combined-analysis\", \"parsed-subreddits\")"
   ]
  }
 ],
 "metadata": {
  "kernelspec": {
   "display_name": "hackmt-2023-Ixx92jts-py3.10",
   "language": "python",
   "name": "python3"
  },
  "language_info": {
   "codemirror_mode": {
    "name": "ipython",
    "version": 3
   },
   "file_extension": ".py",
   "mimetype": "text/x-python",
   "name": "python",
   "nbconvert_exporter": "python",
   "pygments_lexer": "ipython3",
   "version": "3.10.2"
  },
  "orig_nbformat": 4,
  "vscode": {
   "interpreter": {
    "hash": "18f3bec07162dbda8f6b7a88a87618d1de33f97370e48c013a6d2883142dc9bf"
   }
  }
 },
 "nbformat": 4,
 "nbformat_minor": 2
}