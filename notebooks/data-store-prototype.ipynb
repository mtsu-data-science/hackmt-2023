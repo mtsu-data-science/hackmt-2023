{
 "cells": [
  {
   "cell_type": "code",
   "execution_count": null,
   "metadata": {},
   "outputs": [],
   "source": [
    "import awswrangler as wr\n",
    "import boto3\n",
    "from dotenv import load_dotenv\n",
    "import os\n",
    "import pandas as pd\n",
    "\n",
    "if \"notebook\" in os.getcwd():\n",
    "    os.chdir(\"..\")\n",
    "\n",
    "from src.data_pipeline import write_subreddit_data_to_s3, read_subreddit_data_from_s3\n",
    "\n",
    "try:\n",
    "    del os.environ[\"AWS_ACCESS_KEY_ID\"]\n",
    "    del os.environ[\"AWS_SECRET_ACCESS_KEY\"]\n",
    "    del os.environ[\"AWS_SESSION_TOKEN\"]\n",
    "except:\n",
    "    None\n",
    "\n",
    "load_dotenv()"
   ]
  },
  {
   "cell_type": "code",
   "execution_count": null,
   "metadata": {},
   "outputs": [],
   "source": [
    "df_sub = pd.read_csv(\"data/Submissions_sample.csv\")\n",
    "df_sub.head(2)"
   ]
  },
  {
   "cell_type": "code",
   "execution_count": null,
   "metadata": {},
   "outputs": [],
   "source": [
    "df_post = pd.read_csv(\"data/posts.csv\")\n",
    "df_post.head(2)"
   ]
  },
  {
   "cell_type": "code",
   "execution_count": null,
   "metadata": {},
   "outputs": [],
   "source": [
    "write_subreddit_data_to_s3(df_sub, \"test\", \"test-file-name\")"
   ]
  },
  {
   "cell_type": "code",
   "execution_count": null,
   "metadata": {},
   "outputs": [],
   "source": [
    "df = read_subreddit_data_from_s3(\"test\", \"test-file-name\")\n",
    "\n",
    "df.head(2)"
   ]
  }
 ],
 "metadata": {
  "kernelspec": {
   "display_name": "hackmt-2023-Ixx92jts-py3.10",
   "language": "python",
   "name": "python3"
  },
  "language_info": {
   "codemirror_mode": {
    "name": "ipython",
    "version": 3
   },
   "file_extension": ".py",
   "mimetype": "text/x-python",
   "name": "python",
   "nbconvert_exporter": "python",
   "pygments_lexer": "ipython3",
   "version": "3.10.2 (main, Jan 24 2022, 19:00:10) [Clang 13.0.0 (clang-1300.0.27.3)]"
  },
  "orig_nbformat": 4,
  "vscode": {
   "interpreter": {
    "hash": "18f3bec07162dbda8f6b7a88a87618d1de33f97370e48c013a6d2883142dc9bf"
   }
  }
 },
 "nbformat": 4,
 "nbformat_minor": 2
}
